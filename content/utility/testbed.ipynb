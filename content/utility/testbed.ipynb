{
  "cells": [
    {
      "cell_type": "code",
      "execution_count": null,
      "metadata": {
        "trusted": true
      },
      "outputs": [],
      "source": [
        "import micropip\n",
        "await micropip.install(\"humlab-penelope\")"
      ]
    },
    {
      "cell_type": "code",
      "execution_count": null,
      "metadata": {
        "trusted": true
      },
      "outputs": [],
      "source": [
        "import penelope"
      ]
    },
    {
      "cell_type": "code",
      "execution_count": null,
      "metadata": {
        "trusted": true
      },
      "outputs": [],
      "source": [
        "import pandas as pd\n",
        "pd.read_csv('/data/dictionary.zip', sep='\\t')"
      ]
    },
    {
      "cell_type": "code",
      "execution_count": null,
      "metadata": {
        "trusted": true
      },
      "outputs": [],
      "source": [
        "from glob import glob"
      ]
    },
    {
      "cell_type": "code",
      "execution_count": null,
      "metadata": {
        "trusted": true
      },
      "outputs": [],
      "source": [
        "glob(\"*\")"
      ]
    },
    {
      "cell_type": "code",
      "execution_count": null,
      "metadata": {
        "trusted": true
      },
      "outputs": [],
      "source": [
        "import requests\n",
        "res = await requests.get('https://jupyterlite.readthedocs.io/en/latest/_static/lab/index.html')\n"
      ]
    },
    {
      "cell_type": "code",
      "execution_count": null,
      "metadata": {
        "trusted": true
      },
      "outputs": [],
      "source": [
        "import js\n",
        "from io import StringIO, BytesIO\n",
        "import pandas as pd"
      ]
    },
    {
      "cell_type": "code",
      "execution_count": null,
      "metadata": {
        "trusted": true
      },
      "outputs": [],
      "source": [
        "op = js.self.indexedDB.open(\"JupyterLite Storage\")"
      ]
    },
    {
      "cell_type": "code",
      "execution_count": null,
      "metadata": {
        "trusted": true
      },
      "outputs": [],
      "source": [
        "idbdb = op.result"
      ]
    },
    {
      "cell_type": "code",
      "execution_count": null,
      "metadata": {
        "trusted": true
      },
      "outputs": [],
      "source": [
        "tr = idbdb.transaction(\"files\")\n",
        "obs = tr.objectStore(\"files\")\n",
        "req = obs.get(\"dictionary.zip\", \"key\")"
      ]
    },
    {
      "cell_type": "code",
      "execution_count": null,
      "metadata": {
        "trusted": true
      },
      "outputs": [],
      "source": [
        "csv = req.result.content\n",
        "mybytes=req.result.content.encode('latin-1')\n",
        "csv_io = BytesIO(mybytes)\n",
        "\n",
        "pd.read_csv(csv_io, sep = \",\")"
      ]
    },
    {
      "cell_type": "code",
      "execution_count": null,
      "metadata": {
        "trusted": true
      },
      "outputs": [],
      "source": [
        "import asyncio, js, io, pandas, IPython\n",
        "\n",
        "async def get_store():\n",
        "    queue = asyncio.Queue(1)\n",
        "    store_request = js.self.indexedDB.open(\"JupyterLite Storage\")\n",
        "    store_request.onsuccess = store_request.onerror = queue.put_nowait\n",
        "    await queue.get()\n",
        "    if store_request.result is None:\n",
        "        return None\n",
        "    transaction = store_request.result.transaction(\"files\", \"readonly\")\n",
        "    store = transaction.objectStore(\"files\")\n",
        "    return store\n",
        "\n",
        "async def get_store_list():\n",
        "    queue = asyncio.Queue(1)\n",
        "    store = await get_store()\n",
        "    keys = store.getAllKeys()\n",
        "    keys.onsuccess = keys.onerror = queue.put_nowait\n",
        "    await queue.get()\n",
        "    return keys.result.to_py()\n",
        "\n",
        "async def get_store_content(path):\n",
        "    queue = asyncio.Queue(1)\n",
        "    store = await get_store()\n",
        "    content_request = store.get(path, \"key\")\n",
        "    content_request.onsuccess = content_request.onerror = queue.put_nowait\n",
        "    await queue.get()\n",
        "    return content_request.result.to_py()['content'] if content_request.result else None\n"
      ]
    },
    {
      "cell_type": "code",
      "execution_count": null,
      "metadata": {
        "trusted": true
      },
      "outputs": [],
      "source": [
        "content = (await get_store_content('data/dictionary.zip'))\n",
        "\n",
        "#print(await get_store_list(\"/data/dictionary.feather\"))"
      ]
    },
    {
      "cell_type": "code",
      "execution_count": null,
      "metadata": {
        "trusted": true
      },
      "outputs": [],
      "source": [
        "type(io.BytesIO(content.encode('latin-1')))"
      ]
    },
    {
      "cell_type": "code",
      "execution_count": null,
      "metadata": {
        "trusted": true
      },
      "outputs": [],
      "source": [
        "pd.read_csv(type(io.BytesIO(content.encode('latin-1'))), compression='zip')"
      ]
    },
    {
      "cell_type": "code",
      "execution_count": null,
      "metadata": {},
      "outputs": [],
      "source": []
    }
  ],
  "metadata": {
    "kernelspec": {
      "display_name": "Pyolite",
      "language": "python",
      "name": "python"
    },
    "language_info": {
      "codemirror_mode": {
        "name": "python",
        "version": 3
      },
      "file_extension": ".py",
      "mimetype": "text/x-python",
      "name": "python",
      "nbconvert_exporter": "python",
      "pygments_lexer": "ipython3",
      "version": "3.8"
    }
  },
  "nbformat": 4,
  "nbformat_minor": 4
}
